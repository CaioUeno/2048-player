{
 "cells": [
  {
   "cell_type": "code",
   "execution_count": 1,
   "metadata": {
    "collapsed": true
   },
   "outputs": [
    {
     "name": "stderr",
     "output_type": "stream",
     "text": [
      "Using TensorFlow backend.\n",
      "/home/caio/Documents/2048/2048env/lib/python3.7/site-packages/tensorflow/python/framework/dtypes.py:516: FutureWarning: Passing (type, 1) or '1type' as a synonym of type is deprecated; in a future version of numpy, it will be understood as (type, (1,)) / '(1,)type'.\n",
      "  _np_qint8 = np.dtype([(\"qint8\", np.int8, 1)])\n",
      "/home/caio/Documents/2048/2048env/lib/python3.7/site-packages/tensorflow/python/framework/dtypes.py:517: FutureWarning: Passing (type, 1) or '1type' as a synonym of type is deprecated; in a future version of numpy, it will be understood as (type, (1,)) / '(1,)type'.\n",
      "  _np_quint8 = np.dtype([(\"quint8\", np.uint8, 1)])\n",
      "/home/caio/Documents/2048/2048env/lib/python3.7/site-packages/tensorflow/python/framework/dtypes.py:518: FutureWarning: Passing (type, 1) or '1type' as a synonym of type is deprecated; in a future version of numpy, it will be understood as (type, (1,)) / '(1,)type'.\n",
      "  _np_qint16 = np.dtype([(\"qint16\", np.int16, 1)])\n",
      "/home/caio/Documents/2048/2048env/lib/python3.7/site-packages/tensorflow/python/framework/dtypes.py:519: FutureWarning: Passing (type, 1) or '1type' as a synonym of type is deprecated; in a future version of numpy, it will be understood as (type, (1,)) / '(1,)type'.\n",
      "  _np_quint16 = np.dtype([(\"quint16\", np.uint16, 1)])\n",
      "/home/caio/Documents/2048/2048env/lib/python3.7/site-packages/tensorflow/python/framework/dtypes.py:520: FutureWarning: Passing (type, 1) or '1type' as a synonym of type is deprecated; in a future version of numpy, it will be understood as (type, (1,)) / '(1,)type'.\n",
      "  _np_qint32 = np.dtype([(\"qint32\", np.int32, 1)])\n",
      "/home/caio/Documents/2048/2048env/lib/python3.7/site-packages/tensorflow/python/framework/dtypes.py:525: FutureWarning: Passing (type, 1) or '1type' as a synonym of type is deprecated; in a future version of numpy, it will be understood as (type, (1,)) / '(1,)type'.\n",
      "  np_resource = np.dtype([(\"resource\", np.ubyte, 1)])\n",
      "/home/caio/Documents/2048/2048env/lib/python3.7/site-packages/tensorboard/compat/tensorflow_stub/dtypes.py:541: FutureWarning: Passing (type, 1) or '1type' as a synonym of type is deprecated; in a future version of numpy, it will be understood as (type, (1,)) / '(1,)type'.\n",
      "  _np_qint8 = np.dtype([(\"qint8\", np.int8, 1)])\n",
      "/home/caio/Documents/2048/2048env/lib/python3.7/site-packages/tensorboard/compat/tensorflow_stub/dtypes.py:542: FutureWarning: Passing (type, 1) or '1type' as a synonym of type is deprecated; in a future version of numpy, it will be understood as (type, (1,)) / '(1,)type'.\n",
      "  _np_quint8 = np.dtype([(\"quint8\", np.uint8, 1)])\n",
      "/home/caio/Documents/2048/2048env/lib/python3.7/site-packages/tensorboard/compat/tensorflow_stub/dtypes.py:543: FutureWarning: Passing (type, 1) or '1type' as a synonym of type is deprecated; in a future version of numpy, it will be understood as (type, (1,)) / '(1,)type'.\n",
      "  _np_qint16 = np.dtype([(\"qint16\", np.int16, 1)])\n",
      "/home/caio/Documents/2048/2048env/lib/python3.7/site-packages/tensorboard/compat/tensorflow_stub/dtypes.py:544: FutureWarning: Passing (type, 1) or '1type' as a synonym of type is deprecated; in a future version of numpy, it will be understood as (type, (1,)) / '(1,)type'.\n",
      "  _np_quint16 = np.dtype([(\"quint16\", np.uint16, 1)])\n",
      "/home/caio/Documents/2048/2048env/lib/python3.7/site-packages/tensorboard/compat/tensorflow_stub/dtypes.py:545: FutureWarning: Passing (type, 1) or '1type' as a synonym of type is deprecated; in a future version of numpy, it will be understood as (type, (1,)) / '(1,)type'.\n",
      "  _np_qint32 = np.dtype([(\"qint32\", np.int32, 1)])\n",
      "/home/caio/Documents/2048/2048env/lib/python3.7/site-packages/tensorboard/compat/tensorflow_stub/dtypes.py:550: FutureWarning: Passing (type, 1) or '1type' as a synonym of type is deprecated; in a future version of numpy, it will be understood as (type, (1,)) / '(1,)type'.\n",
      "  np_resource = np.dtype([(\"resource\", np.ubyte, 1)])\n"
     ]
    }
   ],
   "source": [
    "import BoardGame\n",
    "import Player\n",
    "from joblib import Parallel, delayed\n",
    "import multiprocessing\n",
    "import numpy as np\n",
    "import matplotlib.pyplot as plt\n",
    "from tqdm import tqdm\n",
    "from keras.models import load_model"
   ]
  },
  {
   "cell_type": "code",
   "execution_count": 2,
   "metadata": {},
   "outputs": [],
   "source": [
    "def opa(i):\n",
    "    d.scores[i] = d.players[i].play_game(BoardGame.board())"
   ]
  },
  {
   "cell_type": "code",
   "execution_count": 3,
   "metadata": {},
   "outputs": [],
   "source": [
    "class Darwin(object):\n",
    "    \n",
    "    def __init__(self, n=10):\n",
    "        \n",
    "        self.players = {i: Player.Player() for i in range(n)}\n",
    "        self.scores = {i: 0 for i in range(n)}\n",
    "        self.n = n\n",
    "        self.history = []\n",
    "        \n",
    "    def trainning(self, epochs=2):\n",
    "        \n",
    "        for epoch in tqdm(range(epochs)):\n",
    "            for n in range(10):\n",
    "                for i in range(self.n):\n",
    "                    self.scores[i] = self.players[i].play_game(BoardGame.board())\n",
    "            \n",
    "            best = min(self.scores, key=self.scores.get)\n",
    "#             print('Melhor jogador: '+str(best))\n",
    "#             print('Score:'+str(self.scores[best]))\n",
    "            self.history.append(self.scores[best])\n",
    "            self.remove_worst()\n",
    "            self.reset_scores()\n",
    "            \n",
    "            \n",
    "    def remove_worst(self):\n",
    "        \n",
    "        for i in range(int(self.n * 0.9)):\n",
    "            worst = min(self.scores, key=self.scores.get)\n",
    "            self.players[worst].evolve()\n",
    "            self.scores[worst] = np.inf\n",
    "    \n",
    "    def reset_scores(self):\n",
    "        \n",
    "        self.scores = {i: 0 for i in range(self.n)}\n",
    "    \n",
    "    def plot_history(self):\n",
    "        \n",
    "        plt.plot(self.history[-100:], color='crimson')\n",
    "        plt.title('Melhor score por época')\n",
    "        plt.xlabel('Época')\n",
    "        plt.ylabel('Score')\n",
    "        plt.grid(True)\n",
    "        plt.savefig('history_scores.png')\n",
    "        \n",
    "    def get_best(self):\n",
    "        \n",
    "        self.players[max(self.scores, key=self.scores.get)].save_model()\n",
    "        return self.players[max(self.scores, key=self.scores.get)]\n",
    "    \n",
    "    def recall_players(self, n):\n",
    "        \n",
    "        self.__init__(n)\n",
    "        for i in range(self.n):\n",
    "            self.players[i].model = load_model('best_player.h5')\n",
    "        \n",
    "        "
   ]
  }
 ],
 "metadata": {
  "kernelspec": {
   "display_name": "Python 3",
   "language": "python",
   "name": "python3"
  },
  "language_info": {
   "codemirror_mode": {
    "name": "ipython",
    "version": 3
   },
   "file_extension": ".py",
   "mimetype": "text/x-python",
   "name": "python",
   "nbconvert_exporter": "python",
   "pygments_lexer": "ipython3",
   "version": "3.7.3"
  }
 },
 "nbformat": 4,
 "nbformat_minor": 4
}
